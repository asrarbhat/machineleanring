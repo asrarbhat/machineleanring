{
  "nbformat": 4,
  "nbformat_minor": 0,
  "metadata": {
    "colab": {
      "name": "k-means.ipynb",
      "provenance": [],
      "collapsed_sections": [],
      "authorship_tag": "ABX9TyNkIe/lTigtK4pFWiAhEfxc",
      "include_colab_link": true
    },
    "kernelspec": {
      "name": "python3",
      "display_name": "Python 3"
    },
    "language_info": {
      "name": "python"
    }
  },
  "cells": [
    {
      "cell_type": "markdown",
      "metadata": {
        "id": "view-in-github",
        "colab_type": "text"
      },
      "source": [
        "<a href=\"https://colab.research.google.com/github/asrarbhat/machineleanring/blob/main/k_means.ipynb\" target=\"_parent\"><img src=\"https://colab.research.google.com/assets/colab-badge.svg\" alt=\"Open In Colab\"/></a>"
      ]
    },
    {
      "cell_type": "markdown",
      "metadata": {
        "id": "OhefRqbttVYq"
      },
      "source": [
        "k means clustering"
      ]
    },
    {
      "cell_type": "code",
      "metadata": {
        "id": "qKSK02f9tq8t"
      },
      "source": [
        "import numpy as np\n"
      ],
      "execution_count": 2,
      "outputs": []
    },
    {
      "cell_type": "code",
      "metadata": {
        "id": "1IE6kWpTun8y"
      },
      "source": [
        "input=np.array([[1,2,3],\n",
        "               [3,4,4],\n",
        "               [5,6,5],\n",
        "                [4,4,6]\n",
        "               ])"
      ],
      "execution_count": 3,
      "outputs": []
    },
    {
      "cell_type": "code",
      "metadata": {
        "colab": {
          "base_uri": "https://localhost:8080/"
        },
        "id": "YDxR36Zxux7v",
        "outputId": "f09c86d5-f2b2-4869-f274-19e3c429f963"
      },
      "source": [
        "input.shape"
      ],
      "execution_count": 4,
      "outputs": [
        {
          "output_type": "execute_result",
          "data": {
            "text/plain": [
              "(4, 3)"
            ]
          },
          "metadata": {},
          "execution_count": 4
        }
      ]
    },
    {
      "cell_type": "code",
      "metadata": {
        "colab": {
          "base_uri": "https://localhost:8080/"
        },
        "id": "zGhTGncQu58U",
        "outputId": "3c2ca226-2eeb-4332-a349-4f368112773c"
      },
      "source": [
        "#hyperparameter\n",
        "no_of_clusters=4\n",
        "clusters=input[:no_of_clusters+1,:].reshape((no_of_clusters,1,input.shape[1]))\n",
        "clusters"
      ],
      "execution_count": 5,
      "outputs": [
        {
          "output_type": "execute_result",
          "data": {
            "text/plain": [
              "array([[[1, 2, 3]],\n",
              "\n",
              "       [[3, 4, 4]],\n",
              "\n",
              "       [[5, 6, 5]],\n",
              "\n",
              "       [[4, 4, 6]]])"
            ]
          },
          "metadata": {},
          "execution_count": 5
        }
      ]
    },
    {
      "cell_type": "code",
      "metadata": {
        "colab": {
          "base_uri": "https://localhost:8080/"
        },
        "id": "MX5UHveVvJRO",
        "outputId": "5a76ff12-fa53-4d02-af1f-cff9ff0911c3"
      },
      "source": [
        "#learning\n",
        "no_of_iterations=100;\n",
        "def distances(input,clusters):\n",
        "    distance=np.float_power(np.sum(np.power((clusters-input),2),axis=2),0.5)\n",
        "    return distance\n",
        "distances(input,clusters)\n",
        "\n",
        "\n",
        "\n",
        "\n",
        "\n",
        "\n"
      ],
      "execution_count": 6,
      "outputs": [
        {
          "output_type": "execute_result",
          "data": {
            "text/plain": [
              "array([[0.        , 3.        , 6.        , 4.69041576],\n",
              "       [3.        , 0.        , 3.        , 2.23606798],\n",
              "       [6.        , 3.        , 0.        , 2.44948974],\n",
              "       [4.69041576, 2.23606798, 2.44948974, 0.        ]])"
            ]
          },
          "metadata": {},
          "execution_count": 6
        }
      ]
    },
    {
      "cell_type": "code",
      "metadata": {
        "colab": {
          "base_uri": "https://localhost:8080/"
        },
        "id": "bWCRZkybEEsY",
        "outputId": "bba211ef-c87d-403f-ec2f-fafdab4866f2"
      },
      "source": [
        "for i in range(2):\n",
        "    distance_matrix=distances(input,clusters)\n",
        "    print(distance_matrix)\n",
        "    min=np.min(distance_matrix,axis=0)\n",
        "    print(min)\n",
        "    distance_matrix-=min\n",
        "    print(distance_matrix)\n",
        "    nearby_matrix=distance_matrix==0.0\n",
        "    print(nearby_matrix)\n",
        "    nearby=nearby_matrix.reshape((no_of_clusters,input.shape[0],1))\n",
        "    print(nearby)\n",
        "    temporary=nearby*input\n",
        "    print(temporary)\n",
        "    new_cluster=(np.sum(temporary,axis=1)/(np.sum(temporary!=0,axis=1)+1))\n",
        "    print(new_cluster)\n",
        "    clusters=new_cluster.reshape(clusters.shape)"
      ],
      "execution_count": 7,
      "outputs": [
        {
          "output_type": "stream",
          "name": "stdout",
          "text": [
            "[[0.         3.         6.         4.69041576]\n",
            " [3.         0.         3.         2.23606798]\n",
            " [6.         3.         0.         2.44948974]\n",
            " [4.69041576 2.23606798 2.44948974 0.        ]]\n",
            "[0. 0. 0. 0.]\n",
            "[[0.         3.         6.         4.69041576]\n",
            " [3.         0.         3.         2.23606798]\n",
            " [6.         3.         0.         2.44948974]\n",
            " [4.69041576 2.23606798 2.44948974 0.        ]]\n",
            "[[ True False False False]\n",
            " [False  True False False]\n",
            " [False False  True False]\n",
            " [False False False  True]]\n",
            "[[[ True]\n",
            "  [False]\n",
            "  [False]\n",
            "  [False]]\n",
            "\n",
            " [[False]\n",
            "  [ True]\n",
            "  [False]\n",
            "  [False]]\n",
            "\n",
            " [[False]\n",
            "  [False]\n",
            "  [ True]\n",
            "  [False]]\n",
            "\n",
            " [[False]\n",
            "  [False]\n",
            "  [False]\n",
            "  [ True]]]\n",
            "[[[1 2 3]\n",
            "  [0 0 0]\n",
            "  [0 0 0]\n",
            "  [0 0 0]]\n",
            "\n",
            " [[0 0 0]\n",
            "  [3 4 4]\n",
            "  [0 0 0]\n",
            "  [0 0 0]]\n",
            "\n",
            " [[0 0 0]\n",
            "  [0 0 0]\n",
            "  [5 6 5]\n",
            "  [0 0 0]]\n",
            "\n",
            " [[0 0 0]\n",
            "  [0 0 0]\n",
            "  [0 0 0]\n",
            "  [4 4 6]]]\n",
            "[[0.5 1.  1.5]\n",
            " [1.5 2.  2. ]\n",
            " [2.5 3.  2.5]\n",
            " [2.  2.  3. ]]\n",
            "[[1.87082869 4.63680925 7.58287544 6.44204936]\n",
            " [1.11803399 3.20156212 6.10327781 5.12347538]\n",
            " [1.87082869 1.87082869 4.63680925 3.93700394]\n",
            " [1.         2.44948974 5.38516481 4.12310563]]\n",
            "[1.         1.87082869 4.63680925 3.93700394]\n",
            "[[0.87082869 2.76598055 2.9460662  2.50504543]\n",
            " [0.11803399 1.33073343 1.46646856 1.18647145]\n",
            " [0.87082869 0.         0.         0.        ]\n",
            " [0.         0.57866105 0.74835556 0.18610169]]\n",
            "[[False False False False]\n",
            " [False False False False]\n",
            " [False  True  True  True]\n",
            " [ True False False False]]\n",
            "[[[False]\n",
            "  [False]\n",
            "  [False]\n",
            "  [False]]\n",
            "\n",
            " [[False]\n",
            "  [False]\n",
            "  [False]\n",
            "  [False]]\n",
            "\n",
            " [[False]\n",
            "  [ True]\n",
            "  [ True]\n",
            "  [ True]]\n",
            "\n",
            " [[ True]\n",
            "  [False]\n",
            "  [False]\n",
            "  [False]]]\n",
            "[[[0 0 0]\n",
            "  [0 0 0]\n",
            "  [0 0 0]\n",
            "  [0 0 0]]\n",
            "\n",
            " [[0 0 0]\n",
            "  [0 0 0]\n",
            "  [0 0 0]\n",
            "  [0 0 0]]\n",
            "\n",
            " [[0 0 0]\n",
            "  [3 4 4]\n",
            "  [5 6 5]\n",
            "  [4 4 6]]\n",
            "\n",
            " [[1 2 3]\n",
            "  [0 0 0]\n",
            "  [0 0 0]\n",
            "  [0 0 0]]]\n",
            "[[0.   0.   0.  ]\n",
            " [0.   0.   0.  ]\n",
            " [3.   3.5  3.75]\n",
            " [0.5  1.   1.5 ]]\n"
          ]
        }
      ]
    },
    {
      "cell_type": "code",
      "metadata": {
        "id": "m2DHT1EgIF60"
      },
      "source": [
        "input,clusters"
      ],
      "execution_count": null,
      "outputs": []
    }
  ]
}