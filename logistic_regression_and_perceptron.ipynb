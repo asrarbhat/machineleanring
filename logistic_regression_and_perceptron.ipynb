{
  "nbformat": 4,
  "nbformat_minor": 0,
  "metadata": {
    "colab": {
      "name": "logistic_regression_and_perceptron.ipynb",
      "provenance": [],
      "collapsed_sections": [],
      "authorship_tag": "ABX9TyNb8iwOsy82uskOrm5Mq4RB",
      "include_colab_link": true
    },
    "kernelspec": {
      "name": "python3",
      "display_name": "Python 3"
    },
    "language_info": {
      "name": "python"
    }
  },
  "cells": [
    {
      "cell_type": "markdown",
      "metadata": {
        "id": "view-in-github",
        "colab_type": "text"
      },
      "source": [
        "<a href=\"https://colab.research.google.com/github/asrarbhat/machineleanring/blob/main/logistic_regression_and_perceptron.ipynb\" target=\"_parent\"><img src=\"https://colab.research.google.com/assets/colab-badge.svg\" alt=\"Open In Colab\"/></a>"
      ]
    },
    {
      "cell_type": "markdown",
      "metadata": {
        "id": "mzizlWl_gIeK"
      },
      "source": [
        "#logistic regression"
      ]
    },
    {
      "cell_type": "markdown",
      "metadata": {
        "id": "zvwql9ZZs2qL"
      },
      "source": [
        "data preprocessing"
      ]
    },
    {
      "cell_type": "code",
      "metadata": {
        "colab": {
          "base_uri": "https://localhost:8080/"
        },
        "id": "bcaj9Gsns6BM",
        "outputId": "c6793877-217d-4709-cf7d-58e8ed4f5665"
      },
      "source": [
        "import pandas as pd\n",
        "import numpy as np\n",
        "\n",
        "\n",
        "df=pd.read_csv(\"mobile.csv\")\n",
        "data=df.values\n",
        "outputs=data[:,-1].reshape((341,1))\n",
        "data=data[:,:-1]\n",
        "data=(data-np.mean(data,axis=0))/(np.std(data,axis=0)+0.001)\n",
        "inputs=np.hstack([np.ones((data.shape[0],1)),data])\n",
        "outputs[outputs<=3.5]=0\n",
        "outputs[outputs>3.5]=1\n",
        "np.mean(outputs)\n",
        "\n",
        "\n",
        " #at the end we want inputs matrix and outputs vector such that inputs X weights = outputs\n",
        "#inputs=\n",
        "#outputs=\n"
      ],
      "execution_count": 64,
      "outputs": [
        {
          "output_type": "execute_result",
          "data": {
            "text/plain": [
              "0.8944281524926686"
            ]
          },
          "metadata": {},
          "execution_count": 64
        }
      ]
    },
    {
      "cell_type": "code",
      "metadata": {
        "id": "pETaTYcNglDR"
      },
      "source": [
        "import numpy as np"
      ],
      "execution_count": 53,
      "outputs": []
    },
    {
      "cell_type": "code",
      "metadata": {
        "id": "Yh41u5fXgZxk"
      },
      "source": [
        "def linear_combination(A,X):\n",
        "    return np.matmul(A,X)\n",
        "\n",
        "def sigmoid(linear):\n",
        "    return 1/(1+np.exp(linear*(-1)))\n"
      ],
      "execution_count": 15,
      "outputs": []
    },
    {
      "cell_type": "markdown",
      "metadata": {
        "id": "pwvAw5tDh3Q7"
      },
      "source": [
        "gradient-descent"
      ]
    },
    {
      "cell_type": "code",
      "metadata": {
        "colab": {
          "base_uri": "https://localhost:8080/"
        },
        "id": "kWjkKhDXtFRw",
        "outputId": "ba8c9248-84d8-4fb0-ddcd-9702ea8d8308"
      },
      "source": [
        "A=inputs\n",
        "Y=outputs\n",
        "A.shape,Y.shape"
      ],
      "execution_count": 16,
      "outputs": [
        {
          "output_type": "execute_result",
          "data": {
            "text/plain": [
              "((341, 88), (341, 1))"
            ]
          },
          "metadata": {},
          "execution_count": 16
        }
      ]
    },
    {
      "cell_type": "code",
      "metadata": {
        "id": "g2fRj7zlh6FJ"
      },
      "source": [
        "#hyperparameters\n",
        "\n",
        "no_of_iterations=1000000\n",
        "\n",
        "no_of_samples=A.shape[0]\n",
        "\n",
        "learing_rate=0.001/no_of_samples\n",
        "\n",
        "#initial weights\n",
        "weights=np.random.rand(A.shape[1],1)"
      ],
      "execution_count": 65,
      "outputs": []
    },
    {
      "cell_type": "code",
      "metadata": {
        "id": "tLV3GHz3mW-6"
      },
      "source": [
        "def derivative(A,Y):\n",
        "\n",
        "    temp1=np.matmul(A,weights)\n",
        "\n",
        "    temp2=sigmoid(temp1)\n",
        "    temp3=(temp2-Y)\n",
        "    temp4=temp2*(1-temp2)\n",
        "    temp5=temp3*temp4\n",
        "    temp6=np.matmul(np.transpose(temp5),A)\n",
        "    \n",
        "    return np.transpose(temp6)"
      ],
      "execution_count": 66,
      "outputs": []
    },
    {
      "cell_type": "code",
      "metadata": {
        "id": "QKATbFrKmVRB"
      },
      "source": [
        "#gradient descent in action\n",
        "error=[]\n",
        "for i in range(no_of_iterations):\n",
        "    error.append(np.sum((Y-sigmoid(linear_combination(A,weights)))**2)/no_of_samples)\n",
        "    weights-=learing_rate*derivative(A,Y)"
      ],
      "execution_count": 67,
      "outputs": []
    },
    {
      "cell_type": "markdown",
      "metadata": {
        "id": "YUokhB-vnGj8"
      },
      "source": [
        "visualization of error"
      ]
    },
    {
      "cell_type": "code",
      "metadata": {
        "colab": {
          "base_uri": "https://localhost:8080/",
          "height": 278
        },
        "id": "Yf2Cikbznm-o",
        "outputId": "0c778fae-24ae-4511-a2d2-4105041babbc"
      },
      "source": [
        "import matplotlib.pyplot as plt\n",
        "import numpy as np\n",
        "plt.plot(np.arange(len(error)),error)\n",
        "plt.show()"
      ],
      "execution_count": 68,
      "outputs": [
        {
          "output_type": "display_data",
          "data": {
            "text/plain": [
              "<Figure size 432x288 with 1 Axes>"
            ],
            "image/png": "[encoded data removed]"
          },
          "metadata": {
            "needs_background": "light"
          }
        }
      ]
    },
    {
      "cell_type": "markdown",
      "metadata": {
        "id": "JA2KivGkvDPi"
      },
      "source": [
        "#perceptron"
      ]
    },
    {
      "cell_type": "code",
      "metadata": {
        "id": "nfKiUsNlvUau"
      },
      "source": [
        "#hyperparameters\n",
        "\n",
        "no_of_iterations=1000000\n",
        "\n",
        "no_of_samples=A.shape[0]\n",
        "\n",
        "learing_rate=1\n",
        "\n",
        "#initial weights\n",
        "weights=np.random.rand(A.shape[1],1)"
      ],
      "execution_count": 61,
      "outputs": []
    },
    {
      "cell_type": "code",
      "metadata": {
        "id": "xescgJbjvFZ4"
      },
      "source": [
        "error=[]\n",
        "import random\n",
        "inputs_transpose=np.transpose(inputs)\n",
        "for i in range(no_of_iterations):\n",
        "    out=np.array(linear_combination(inputs,weights)>=0,dtype=int)\n",
        "    temp=outputs-out\n",
        "    j=random.randint(0,temp.shape[0]-1)\n",
        "    if temp[j][0]>0:\n",
        "        weights+=learing_rate*(inputs_transpose[:,j].reshape(weights.shape))\n",
        "    elif temp[j][0]<0:\n",
        "        weights-=learing_rate*(inputs_transpose[:,j].reshape(weights.shape))\n",
        "    error.append(np.sum(temp*temp))"
      ],
      "execution_count": 62,
      "outputs": []
    },
    {
      "cell_type": "code",
      "metadata": {
        "colab": {
          "base_uri": "https://localhost:8080/",
          "height": 278
        },
        "id": "ZLUJ2MRQx1hD",
        "outputId": "61868755-2fbe-4c27-f30b-4efd3ca65489"
      },
      "source": [
        "import matplotlib.pyplot as plt\n",
        "import numpy as np\n",
        "plt.plot(np.arange(len(error)),error)\n",
        "plt.show()"
      ],
      "execution_count": 63,
      "outputs": [
        {
          "output_type": "display_data",
          "data": {
            "text/plain": [
              "<Figure size 432x288 with 1 Axes>"
            ],
            "image/png": "[encoded data removed]"
          },
          "metadata": {
            "needs_background": "light"
          }
        }
      ]
    }
  ]
}