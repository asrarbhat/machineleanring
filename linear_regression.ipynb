{
  "nbformat": 4,
  "nbformat_minor": 0,
  "metadata": {
    "colab": {
      "name": "linear_regression.ipynb",
      "provenance": [],
      "collapsed_sections": []
    },
    "kernelspec": {
      "name": "python3",
      "display_name": "Python 3"
    },
    "language_info": {
      "name": "python"
    }
  },
  "cells": [
    {
      "cell_type": "markdown",
      "metadata": {
        "id": "7LTBNKxU7PO_"
      },
      "source": [
        "#toy problem\n",
        "we tried this before real development to practise"
      ]
    },
    {
      "cell_type": "markdown",
      "metadata": {
        "id": "xg6nw0LW_x7s"
      },
      "source": [
        "in linear regression,\n",
        "the hypothesis would be:\n",
        "\n",
        "**$$y=\\sum_{i=0}^{n} w_{i}x_{i}$$**\n",
        "\n",
        "$$where \\space \\space x_{0}=1$$\n",
        "\n",
        "and $$x_{1},x_{2},...,x_{n} \\space \\space are \\space \\space inputs/features$$ \n",
        "and $$y \\space is \\space the \\space output.$$"
      ]
    },
    {
      "cell_type": "code",
      "metadata": {
        "colab": {
          "base_uri": "https://localhost:8080/",
          "height": 299
        },
        "id": "sZiqkijgB7YV",
        "outputId": "d1f65de5-f3d5-4348-a353-a49857be547a"
      },
      "source": [
        "#trying y=ax+b for a generated data set as a practise.\n",
        "import numpy as np\n",
        "import matplotlib.pyplot as plt\n",
        "\n",
        "no_of_iterations=10000\n",
        "no_of_samples=10\n",
        "\n",
        "#generating data\n",
        "inputs = np.array([x for x in range(1,no_of_samples+1)])\n",
        "outputs=inputs + (np.random.random((no_of_samples,))*20)**1.4\n",
        "\n",
        "#our model is outputs = weight * inputs +outputs\n",
        "weight=1\n",
        "bias=1\n",
        "learing_rate=0.0000000001\n",
        "\n",
        "predictions=weight*inputs+bias\n",
        "#applying gradient descent\n",
        "for i in range(no_of_iterations):\n",
        "    predictions=(weight*inputs+bias)\n",
        "    weight-=learing_rate*np.sum((predictions-outputs)*inputs)\n",
        "    bias-=learing_rate*np.sum((predictions-outputs))\n",
        "\n",
        "print(weight,bias)\n",
        "plt.plot(inputs,outputs)\n",
        "plt.plot(inputs,predictions)\n",
        "plt.show()\n",
        "\n",
        "\n",
        "\"\"\"\n",
        "the lesson learned was that it overflows in gradient descent,when numbers are big.\n",
        "\"\"\""
      ],
      "execution_count": 5,
      "outputs": [
        {
          "output_type": "stream",
          "name": "stdout",
          "text": [
            "1.000981048377973 1.0001754667235696\n"
          ]
        },
        {
          "output_type": "display_data",
          "data": {
            "text/plain": [
              "<Figure size 432x288 with 1 Axes>"
            ],
            "image/png": "[encoded data removed]"
          },
          "metadata": {
            "needs_background": "light"
          }
        },
        {
          "output_type": "execute_result",
          "data": {
            "text/plain": [
              "'\\nthe lesson learned was that it overflows in gradient descent,when numbers are big.\\n'"
            ]
          },
          "metadata": {},
          "execution_count": 5
        }
      ]
    },
    {
      "cell_type": "markdown",
      "metadata": {
        "id": "LTbwjSz218Dk"
      },
      "source": [
        "**doing the same using normal equation from linear algebra**"
      ]
    },
    {
      "cell_type": "markdown",
      "metadata": {
        "id": "AC24FAta140U"
      },
      "source": [
        "***"
      ]
    },
    {
      "cell_type": "code",
      "metadata": {
        "id": "VsBRTi3QMfqn"
      },
      "source": [
        "inputs=inputs.reshape(no_of_samples,1)"
      ],
      "execution_count": 6,
      "outputs": []
    },
    {
      "cell_type": "code",
      "metadata": {
        "id": "R4cIebCR2zLJ",
        "outputId": "4b9fc950-a05a-409b-a807-89323aa6926c",
        "colab": {
          "base_uri": "https://localhost:8080/"
        }
      },
      "source": [
        "arr=np.ones((no_of_samples,2))\n",
        "arr[:,:-1]=inputs\n",
        "arr\n"
      ],
      "execution_count": 7,
      "outputs": [
        {
          "output_type": "execute_result",
          "data": {
            "text/plain": [
              "array([[ 1.,  1.],\n",
              "       [ 2.,  1.],\n",
              "       [ 3.,  1.],\n",
              "       [ 4.,  1.],\n",
              "       [ 5.,  1.],\n",
              "       [ 6.,  1.],\n",
              "       [ 7.,  1.],\n",
              "       [ 8.,  1.],\n",
              "       [ 9.,  1.],\n",
              "       [10.,  1.]])"
            ]
          },
          "metadata": {},
          "execution_count": 7
        }
      ]
    },
    {
      "cell_type": "code",
      "metadata": {
        "id": "p8S2LeAr3iHN"
      },
      "source": [
        "outputs=outputs.reshape(no_of_samples,1)"
      ],
      "execution_count": 8,
      "outputs": []
    },
    {
      "cell_type": "code",
      "metadata": {
        "id": "52BLTmaP3qhy",
        "outputId": "b9625a4c-6b85-48a8-b3f7-552c345abfa6",
        "colab": {
          "base_uri": "https://localhost:8080/"
        }
      },
      "source": [
        "weights_learned=np.matmul(np.matmul(np.linalg.inv(np.matmul(arr.T,arr)),arr.T),outputs)\n",
        "weights_learned"
      ],
      "execution_count": 13,
      "outputs": [
        {
          "output_type": "execute_result",
          "data": {
            "text/plain": [
              "array([[ 1.19420443],\n",
              "       [17.48133353]])"
            ]
          },
          "metadata": {},
          "execution_count": 13
        }
      ]
    },
    {
      "cell_type": "code",
      "metadata": {
        "colab": {
          "base_uri": "https://localhost:8080/",
          "height": 282
        },
        "id": "9jZcatVm4HW6",
        "outputId": "cb582cc7-4ce6-4e3e-fb1f-535ebf2399f4"
      },
      "source": [
        "plt.plot(inputs,outputs)\n",
        "plt.plot(inputs,inputs*weights_learned[0,0]+weights_learned[1,0])"
      ],
      "execution_count": 10,
      "outputs": [
        {
          "output_type": "execute_result",
          "data": {
            "text/plain": [
              "[<matplotlib.lines.Line2D at 0x7fce16b4c7f0>]"
            ]
          },
          "metadata": {},
          "execution_count": 10
        },
        {
          "output_type": "display_data",
          "data": {
            "text/plain": [
              "<Figure size 432x288 with 1 Axes>"
            ],
            "image/png": "[encoded data removed]"
          },
          "metadata": {
            "needs_background": "light"
          }
        }
      ]
    },
    {
      "cell_type": "markdown",
      "metadata": {
        "id": "WBpLXsQXwQFT"
      },
      "source": [
        "#general multivariate regression\n",
        "\n",
        "in linear regression,\n",
        "the hypothesis would be:\n",
        "\n",
        "**$$y=\\sum_{i=0}^{n} w_{i}x_{i}$$**\n",
        "\n",
        "$$where \\space \\space x_{0}=1$$\n",
        "\n",
        "and $$x_{1},x_{2},...,x_{n} \\space \\space are \\space \\space inputs/features$$ \n",
        "and $$y \\space is \\space the \\space output.$$\n",
        "\n",
        "we can convert any polynomial regression problem into a linear regression problem in data preprocessing part"
      ]
    },
    {
      "cell_type": "markdown",
      "metadata": {
        "id": "UaJT_wJABcJR"
      },
      "source": [
        "##data preprocessing"
      ]
    },
    {
      "cell_type": "markdown",
      "metadata": {
        "id": "nYmTuCprUIVl"
      },
      "source": [
        "errors types encountered\n",
        "\n",
        "shape of arrays not compatible for multiplication of matrices"
      ]
    },
    {
      "cell_type": "code",
      "metadata": {
        "id": "yF5bUg79BfBM",
        "outputId": "935ac75a-9510-4153-f7a1-0eff8c7e5dc9",
        "colab": {
          "base_uri": "https://localhost:8080/"
        }
      },
      "source": [
        "import pandas as pd\n",
        "df=pd.read_csv(\"mobile.csv\")\n",
        "data=df.values\n",
        "outputs=data[:,-1].reshape((341,1))\n",
        "data=data[:,:-1]\n",
        "data=(data-np.mean(data,axis=0))/(np.std(data,axis=0)+0.001)\n",
        "inputs=data\n",
        "inputs.shape,outputs.shape\n",
        "\n",
        " #at the end we want inputs matrix and outputs vector such that inputs X weights = outputs\n",
        "#inputs=\n",
        "#outputs=\n"
      ],
      "execution_count": 120,
      "outputs": [
        {
          "output_type": "execute_result",
          "data": {
            "text/plain": [
              "((341, 87), (341, 1))"
            ]
          },
          "metadata": {},
          "execution_count": 120
        }
      ]
    },
    {
      "cell_type": "markdown",
      "metadata": {
        "id": "AuikZCS72GaL"
      },
      "source": [
        "##solve using gradient descent"
      ]
    },
    {
      "cell_type": "code",
      "metadata": {
        "id": "OL8OdW7S7V5g",
        "outputId": "eef0365c-9e66-4431-93a6-6f2058bfb977",
        "colab": {
          "base_uri": "https://localhost:8080/"
        }
      },
      "source": [
        "#A is the inputs matrix and Y is is outputs vector such that AX=Y\n",
        "A=inputs\n",
        "Y=outputs\n",
        "A.shape,Y.shape"
      ],
      "execution_count": 121,
      "outputs": [
        {
          "output_type": "execute_result",
          "data": {
            "text/plain": [
              "((341, 87), (341, 1))"
            ]
          },
          "metadata": {},
          "execution_count": 121
        }
      ]
    },
    {
      "cell_type": "code",
      "metadata": {
        "id": "s3yuKysp2v57"
      },
      "source": [
        "#hyperparameters\n",
        "\n",
        "no_of_iterations=100000\n",
        "\n",
        "no_of_samples=A.shape[0]\n",
        "\n",
        "learing_rate=0.001/no_of_samples\n",
        "\n",
        "#initial weights\n",
        "weights=np.random.rand(A.shape[1],1)\n"
      ],
      "execution_count": 131,
      "outputs": []
    },
    {
      "cell_type": "code",
      "metadata": {
        "id": "vGhwdwD03GWW"
      },
      "source": [
        "#calculating gradients\n",
        "#gradient vector=(predicted_outputs_vector-real_outputs_vector) transposed and multiplied by inputs matrix\n",
        "#predicted output vector is AX and real/expected output vector is Y\n",
        "\n",
        "def derivative(A,Y):\n",
        "\n",
        "    temp1=np.matmul(A,weights)\n",
        "\n",
        "    temp2=(temp1-Y)\n",
        "\n",
        "    temp3=np.matmul(np.transpose(temp2),A)\n",
        "    \n",
        "    return np.transpose(temp3)"
      ],
      "execution_count": 132,
      "outputs": []
    },
    {
      "cell_type": "code",
      "metadata": {
        "id": "nX_QlHXw2Jy7"
      },
      "source": [
        "#gradient descent in action\n",
        "error=[]\n",
        "for i in range(no_of_iterations):\n",
        "    error.append(np.sum((Y-np.matmul(A,weights))**2)/no_of_samples)\n",
        "    weights-=learing_rate*derivative(A,Y)"
      ],
      "execution_count": 133,
      "outputs": []
    },
    {
      "cell_type": "code",
      "metadata": {
        "id": "mHEojCJw7tnk"
      },
      "source": [
        "#i can keep track of minimum error also in case i need best one,though i skipped it for now\n",
        "weights"
      ],
      "execution_count": null,
      "outputs": []
    },
    {
      "cell_type": "markdown",
      "metadata": {
        "id": "5G1NxT50wXvW"
      },
      "source": [
        "##solve using normal equation"
      ]
    },
    {
      "cell_type": "markdown",
      "metadata": {
        "id": "GN1Ia7gFzwXp"
      },
      "source": [
        "solution from linear algebra would be\n",
        "\n",
        "$$given \\space AX=B$$\n",
        "$$then \\space X=(A^TA)^{-1}A^TB$$\n",
        "\n",
        "it is called normal equation"
      ]
    },
    {
      "cell_type": "code",
      "metadata": {
        "id": "kT5FpXN5xbWN"
      },
      "source": [
        "import numpy as np"
      ],
      "execution_count": 136,
      "outputs": []
    },
    {
      "cell_type": "code",
      "metadata": {
        "id": "i8KpEcy5wszD"
      },
      "source": [
        "def solution(A,B):\n",
        "\n",
        "    '''\n",
        "             AX=B\n",
        "\n",
        "    A is a numpy matrix of inputs\n",
        "    B is a numpy array of outputs\n",
        "\n",
        "    output is a numpy array for weights/parameters\n",
        "\n",
        "    IT WOULD GIVE ERROR IF MATRIX IS NOT INVERTIBLE\n",
        "\n",
        "    '''\n",
        "\n",
        "    A_transpose = np.transpose(A)\n",
        "\n",
        "    temp1 = np.matmul(A_transpose,A)\n",
        "\n",
        "    # temp2 = np.linalg.inv(temp1)\n",
        "    temp2=np.linalg.pinv(temp1)#pseudoinverse\n",
        "\n",
        "    temp3 = np.matmul(temp2,A_transpose)\n",
        "\n",
        "    result=np.matmul(temp3,B)\n",
        "\n",
        "    return result"
      ],
      "execution_count": 144,
      "outputs": []
    },
    {
      "cell_type": "code",
      "metadata": {
        "id": "BGCQ4p8uzELX"
      },
      "source": [
        "normal_weights=solution(inputs,outputs)"
      ],
      "execution_count": 145,
      "outputs": []
    },
    {
      "cell_type": "markdown",
      "metadata": {
        "id": "njp0LcpiCeHY"
      },
      "source": [
        "##error visualization\n",
        "\n",
        "for gradient descent"
      ]
    },
    {
      "cell_type": "code",
      "metadata": {
        "id": "WPtLtpRVCgiq",
        "outputId": "6af06e31-2d8a-490b-d0c3-e58c4bc8c6f4",
        "colab": {
          "base_uri": "https://localhost:8080/",
          "height": 266
        }
      },
      "source": [
        "import matplotlib.pyplot as plt\n",
        "import numpy as np\n",
        "plt.plot(np.arange(len(error)),error)\n",
        "plt.show()"
      ],
      "execution_count": 134,
      "outputs": [
        {
          "output_type": "display_data",
          "data": {
            "text/plain": [
              "<Figure size 432x288 with 1 Axes>"
            ],
            "image/png": "[encoded data removed]"
          },
          "metadata": {
            "needs_background": "light"
          }
        }
      ]
    },
    {
      "cell_type": "markdown",
      "metadata": {
        "id": "LBfVIAJfUvqz"
      },
      "source": [
        "comparing normal and gradient descent results"
      ]
    },
    {
      "cell_type": "code",
      "metadata": {
        "id": "PkGvGq1PU0S4",
        "outputId": "f2c1331e-aafa-40df-f054-b284e7f2f853",
        "colab": {
          "base_uri": "https://localhost:8080/",
          "height": 265
        }
      },
      "source": [
        "import matplotlib.pyplot as plt\n",
        "plt.plot(np.arange(len(weights)),normal_weights)\n",
        "plt.plot(np.arange(len(weights)),weights)\n",
        "plt.show()"
      ],
      "execution_count": 139,
      "outputs": [
        {
          "output_type": "display_data",
          "data": {
            "text/plain": [
              "<Figure size 432x288 with 1 Axes>"
            ],
            "image/png": "[encoded data removed]"
          },
          "metadata": {
            "needs_background": "light"
          }
        }
      ]
    }
  ]
}