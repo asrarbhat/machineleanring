{
  "nbformat": 4,
  "nbformat_minor": 0,
  "metadata": {
    "colab": {
      "name": "numpy.ipynb",
      "provenance": [],
      "authorship_tag": "ABX9TyNIesaYsK3OBAKHRmEiMYde"
    },
    "kernelspec": {
      "name": "python3",
      "display_name": "Python 3"
    },
    "language_info": {
      "name": "python"
    }
  },
  "cells": [
    {
      "cell_type": "code",
      "metadata": {
        "id": "DE5cwQmLdAlt"
      },
      "source": [
        "import numpy as np"
      ],
      "execution_count": null,
      "outputs": []
    },
    {
      "cell_type": "markdown",
      "metadata": {
        "id": "pHuCRvWXe16V"
      },
      "source": [
        "when using asarray changes reflect in original numpy array and when using array then changes won't refect,when building from list,changes won't reflect"
      ]
    },
    {
      "cell_type": "code",
      "metadata": {
        "colab": {
          "base_uri": "https://localhost:8080/"
        },
        "id": "74KpGnqfdbTo",
        "outputId": "b51cd74f-e020-4fd2-a039-200332249997"
      },
      "source": [
        "l=[1,2,3,4]\n",
        "arr=np.asarray(l)\n",
        "arr"
      ],
      "execution_count": null,
      "outputs": [
        {
          "output_type": "execute_result",
          "data": {
            "text/plain": [
              "array([1, 2, 3, 4])"
            ]
          },
          "metadata": {},
          "execution_count": 7
        }
      ]
    },
    {
      "cell_type": "code",
      "metadata": {
        "colab": {
          "base_uri": "https://localhost:8080/"
        },
        "id": "9ttzlt3leZvE",
        "outputId": "845eda56-8948-432f-baef-a0bb63e12200"
      },
      "source": [
        "arr1=np.asarray(arr[:2])\n",
        "arr1+=1\n",
        "arr1"
      ],
      "execution_count": null,
      "outputs": [
        {
          "output_type": "execute_result",
          "data": {
            "text/plain": [
              "array([2, 3])"
            ]
          },
          "metadata": {},
          "execution_count": 8
        }
      ]
    },
    {
      "cell_type": "code",
      "metadata": {
        "colab": {
          "base_uri": "https://localhost:8080/"
        },
        "id": "LncK6IuUemff",
        "outputId": "7a6bc307-17c9-427b-9ace-80ea526f5141"
      },
      "source": [
        "arr"
      ],
      "execution_count": null,
      "outputs": [
        {
          "output_type": "execute_result",
          "data": {
            "text/plain": [
              "array([2, 3, 3, 4])"
            ]
          },
          "metadata": {},
          "execution_count": 9
        }
      ]
    },
    {
      "cell_type": "code",
      "metadata": {
        "colab": {
          "base_uri": "https://localhost:8080/"
        },
        "id": "AhOcQ5ImepRx",
        "outputId": "97c0152e-bac3-4af7-9f73-e4ae96875abe"
      },
      "source": [
        "arr3=np.array(arr[:2])\n",
        "arr3+=1\n",
        "arr3"
      ],
      "execution_count": null,
      "outputs": [
        {
          "output_type": "execute_result",
          "data": {
            "text/plain": [
              "array([3, 4])"
            ]
          },
          "metadata": {},
          "execution_count": 11
        }
      ]
    },
    {
      "cell_type": "code",
      "metadata": {
        "colab": {
          "base_uri": "https://localhost:8080/"
        },
        "id": "ss6WmPVbewTh",
        "outputId": "c577265d-88c3-4ca6-a349-316e7ed08caa"
      },
      "source": [
        "arr"
      ],
      "execution_count": null,
      "outputs": [
        {
          "output_type": "execute_result",
          "data": {
            "text/plain": [
              "array([2, 3, 3, 4])"
            ]
          },
          "metadata": {},
          "execution_count": 12
        }
      ]
    },
    {
      "cell_type": "code",
      "metadata": {
        "colab": {
          "base_uri": "https://localhost:8080/"
        },
        "id": "zKzb_9DSfFfD",
        "outputId": "9dc2065a-f6db-4311-c02e-01387fe3059f"
      },
      "source": [
        "l=[\n",
        "   [1,2,3],\n",
        "   [4,5,6]\n",
        "]\n",
        "arr=np.array(l)\n",
        "arr\n"
      ],
      "execution_count": null,
      "outputs": [
        {
          "output_type": "execute_result",
          "data": {
            "text/plain": [
              "array([[1, 2, 3],\n",
              "       [4, 5, 6]])"
            ]
          },
          "metadata": {},
          "execution_count": 16
        }
      ]
    },
    {
      "cell_type": "code",
      "metadata": {
        "colab": {
          "base_uri": "https://localhost:8080/"
        },
        "id": "HxlTGhVCex5A",
        "outputId": "9ad2346a-d908-4f39-85a9-f878814b54c2"
      },
      "source": [
        "arr.dtype"
      ],
      "execution_count": null,
      "outputs": [
        {
          "output_type": "execute_result",
          "data": {
            "text/plain": [
              "dtype('int64')"
            ]
          },
          "metadata": {},
          "execution_count": 17
        }
      ]
    },
    {
      "cell_type": "code",
      "metadata": {
        "colab": {
          "base_uri": "https://localhost:8080/"
        },
        "id": "sXegR_OnfUFh",
        "outputId": "a7be7c92-47ef-4392-9df8-5f9fa299f304"
      },
      "source": [
        "arr.shape"
      ],
      "execution_count": null,
      "outputs": [
        {
          "output_type": "execute_result",
          "data": {
            "text/plain": [
              "(2, 3)"
            ]
          },
          "metadata": {},
          "execution_count": 18
        }
      ]
    },
    {
      "cell_type": "code",
      "metadata": {
        "colab": {
          "base_uri": "https://localhost:8080/"
        },
        "id": "IL67RUP5fVzA",
        "outputId": "292951e8-dece-49dc-b210-a412d30a001e"
      },
      "source": [
        "arr.ndim"
      ],
      "execution_count": null,
      "outputs": [
        {
          "output_type": "execute_result",
          "data": {
            "text/plain": [
              "2"
            ]
          },
          "metadata": {},
          "execution_count": 19
        }
      ]
    },
    {
      "cell_type": "code",
      "metadata": {
        "colab": {
          "base_uri": "https://localhost:8080/"
        },
        "id": "zyUGzqyTfXNT",
        "outputId": "90e297f3-7133-4552-aaec-6f0cdead9c7b"
      },
      "source": [
        "np.sum(arr,axis=0)\n",
        "np.max(arr,axis=1)\n",
        "arr>3"
      ],
      "execution_count": null,
      "outputs": [
        {
          "output_type": "execute_result",
          "data": {
            "text/plain": [
              "array([[False, False, False],\n",
              "       [ True,  True,  True]])"
            ]
          },
          "metadata": {},
          "execution_count": 24
        }
      ]
    },
    {
      "cell_type": "code",
      "metadata": {
        "colab": {
          "base_uri": "https://localhost:8080/"
        },
        "id": "soDqHOBCf7SL",
        "outputId": "3293f327-b338-4027-fe1f-83fa5b111ba7"
      },
      "source": [
        "arr1=np.ones(arr.shape)\n",
        "arr1=arr1.astype('int64')\n",
        "arr1,arr"
      ],
      "execution_count": null,
      "outputs": [
        {
          "output_type": "execute_result",
          "data": {
            "text/plain": [
              "(array([[1, 1, 1],\n",
              "        [1, 1, 1]]),\n",
              " array([[1, 2, 3],\n",
              "        [4, 5, 6]]))"
            ]
          },
          "metadata": {},
          "execution_count": 28
        }
      ]
    },
    {
      "cell_type": "code",
      "metadata": {
        "colab": {
          "base_uri": "https://localhost:8080/"
        },
        "id": "7Qr-cdx4gP_b",
        "outputId": "9cb85e4e-5cf1-4a84-fc8a-7a8b93752544"
      },
      "source": [
        "np.hstack([arr,arr1])\n",
        "np.vstack([arr,arr1])\n",
        "arr+arr1\n",
        "arr+2\n",
        "arr[0,1]=77\n",
        "arr\n",
        "ranger=np.arange(1,100,2).reshape(5,10)\n",
        "ranger"
      ],
      "execution_count": null,
      "outputs": [
        {
          "output_type": "execute_result",
          "data": {
            "text/plain": [
              "array([[ 1,  3,  5,  7,  9, 11, 13, 15, 17, 19],\n",
              "       [21, 23, 25, 27, 29, 31, 33, 35, 37, 39],\n",
              "       [41, 43, 45, 47, 49, 51, 53, 55, 57, 59],\n",
              "       [61, 63, 65, 67, 69, 71, 73, 75, 77, 79],\n",
              "       [81, 83, 85, 87, 89, 91, 93, 95, 97, 99]])"
            ]
          },
          "metadata": {},
          "execution_count": 48
        }
      ]
    },
    {
      "cell_type": "code",
      "metadata": {
        "colab": {
          "base_uri": "https://localhost:8080/"
        },
        "id": "nTlbJNW9h2-_",
        "outputId": "2d2b7752-602f-4709-f7fc-8de66f876d88"
      },
      "source": [
        "are=ranger[1:3,1:4].copy()\n",
        "are+=100\n",
        "are\n",
        "ranger"
      ],
      "execution_count": null,
      "outputs": [
        {
          "output_type": "execute_result",
          "data": {
            "text/plain": [
              "array([[ 1,  3,  5,  7,  9, 11, 13, 15, 17, 19],\n",
              "       [21, 23, 25, 27, 29, 31, 33, 35, 37, 39],\n",
              "       [41, 43, 45, 47, 49, 51, 53, 55, 57, 59],\n",
              "       [61, 63, 65, 67, 69, 71, 73, 75, 77, 79],\n",
              "       [81, 83, 85, 87, 89, 91, 93, 95, 97, 99]])"
            ]
          },
          "metadata": {},
          "execution_count": 50
        }
      ]
    },
    {
      "cell_type": "code",
      "metadata": {
        "colab": {
          "base_uri": "https://localhost:8080/"
        },
        "id": "k61U5LTkjHor",
        "outputId": "c1e2b742-2c7f-4a23-b926-2edc973fe71f"
      },
      "source": [
        "np.linspace(1,20,13)"
      ],
      "execution_count": null,
      "outputs": [
        {
          "output_type": "execute_result",
          "data": {
            "text/plain": [
              "array([ 1.        ,  2.58333333,  4.16666667,  5.75      ,  7.33333333,\n",
              "        8.91666667, 10.5       , 12.08333333, 13.66666667, 15.25      ,\n",
              "       16.83333333, 18.41666667, 20.        ])"
            ]
          },
          "metadata": {},
          "execution_count": 52
        }
      ]
    },
    {
      "cell_type": "code",
      "metadata": {
        "colab": {
          "base_uri": "https://localhost:8080/"
        },
        "id": "AFj-5uBdjOD4",
        "outputId": "be8557c4-8f20-4d7a-ff24-b9f28fe3e91a"
      },
      "source": [
        "arr7=arr[0,:].copy()\n",
        "np.append(arr7,[1,2,3])\n",
        "arr\n",
        "np.append(arr,[[1,2,3]])\n",
        "\n",
        "arr"
      ],
      "execution_count": null,
      "outputs": [
        {
          "output_type": "execute_result",
          "data": {
            "text/plain": [
              "array([[ 1, 77,  3],\n",
              "       [ 4,  5,  6]])"
            ]
          },
          "metadata": {},
          "execution_count": 62
        }
      ]
    },
    {
      "cell_type": "code",
      "metadata": {
        "id": "yuY_HEOnklhm"
      },
      "source": [
        "np.save('first.npy',arr)"
      ],
      "execution_count": null,
      "outputs": []
    },
    {
      "cell_type": "code",
      "metadata": {
        "id": "25oiE38Ak3oF"
      },
      "source": [
        "arrays=np.load(\"first.npy\")"
      ],
      "execution_count": null,
      "outputs": []
    },
    {
      "cell_type": "code",
      "metadata": {
        "colab": {
          "base_uri": "https://localhost:8080/"
        },
        "id": "vtiO4u68k66F",
        "outputId": "83db100a-b772-4876-b41b-f576178745a8"
      },
      "source": [
        "arrays"
      ],
      "execution_count": null,
      "outputs": [
        {
          "output_type": "execute_result",
          "data": {
            "text/plain": [
              "array([[ 1, 77,  3],\n",
              "       [ 4,  5,  6]])"
            ]
          },
          "metadata": {},
          "execution_count": 70
        }
      ]
    },
    {
      "cell_type": "code",
      "metadata": {
        "id": "SeSHXc0OlGuK"
      },
      "source": [
        "arr1\n",
        "np.savez_compressed(\"second.npz\",arr,arr1)"
      ],
      "execution_count": null,
      "outputs": []
    },
    {
      "cell_type": "code",
      "metadata": {
        "colab": {
          "base_uri": "https://localhost:8080/"
        },
        "id": "x2sBW47klOIa",
        "outputId": "9af23e00-09bd-441b-9e1b-39c312c6888e"
      },
      "source": [
        "arrays=np.load(\"second.npz\")\n",
        "arrays.files\n",
        "arrays['arr_1']"
      ],
      "execution_count": null,
      "outputs": [
        {
          "output_type": "execute_result",
          "data": {
            "text/plain": [
              "array([[1, 1, 1],\n",
              "       [1, 1, 1]])"
            ]
          },
          "metadata": {},
          "execution_count": 78
        }
      ]
    },
    {
      "cell_type": "code",
      "metadata": {
        "colab": {
          "base_uri": "https://localhost:8080/"
        },
        "id": "YsuQw-tXloVE",
        "outputId": "7763528b-7538-48a7-953c-d5a43fa37eeb"
      },
      "source": [
        "arr=np.genfromtxt(\"life.csv\",delimiter=',',skip_header=1,usecols=[1,2])\n",
        "arr"
      ],
      "execution_count": null,
      "outputs": [
        {
          "output_type": "execute_result",
          "data": {
            "text/plain": [
              "array([[1., 5.],\n",
              "       [2., 6.],\n",
              "       [3., 7.],\n",
              "       [4., 8.]])"
            ]
          },
          "metadata": {},
          "execution_count": 92
        }
      ]
    }
  ]
}